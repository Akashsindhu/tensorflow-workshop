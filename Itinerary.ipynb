{
 "cells": [
  {
   "cell_type": "markdown",
   "metadata": {},
   "source": [
    "# Itinerary\n",
    "\n",
    "## Intro\n",
    "\n",
    "* [Download larger files](00%20Get%20Training%20and%20Graph%20Data.ipynb)\n",
    "* [Quick slides: TensorFlow Introduction](https://docs.google.com/presentation/d/1ccO_czXmGSWKQJMWV63nsblFCNgGxyex2wxc9hwPiIM/edit?usp=sharing)\n",
    "\n",
    "## Basics\n",
    "\n",
    "* [TensorFlow API Fundamentals](01%20TensorFlow%20Fundamentals.ipynb)\n",
    "* [Doing simple linear regression with TensorFlow](02%20Linear%20Regression.ipynb)\n",
    "* [Adding in TensorBoard](03%20Linear%20TensorBoard.ipynb)\n",
    "* [Feedforward neural network](04%20Feedforward%20Network.ipynb)\n",
    "\n",
    "## Convolutional Neural Networks, Cats, and Dogs\n",
    "\n",
    "* [What are convolutions?](05%20Convolutional%20Networks.ipynb)\n",
    "* [Loading in pre-built models: Inception](06%20Inception%20Viewer.ipynb)\n",
    "* [Introduce concept of transfer learning using prebuilt Inception example](07%20Inception%20Retraining.ipynb)\n",
    "* [Loading in pre-trained variables \"the real way\" with AlexNet](08%20Create%20Base%20AlexNet.ipynb)\n",
    "* [Transfer learning by hand with AlexNet](09%20AlexNet%20Transfer%20Learning.ipynb)\n",
    "* [Feature extraction and Nearest Neighbor image retrieval with AlexNet](10%20AlexNet%20Image%20Retrieval.ipynb)"
   ]
  },
  {
   "cell_type": "code",
   "execution_count": null,
   "metadata": {
    "collapsed": true
   },
   "outputs": [],
   "source": []
  }
 ],
 "metadata": {
  "kernelspec": {
   "display_name": "Python 3",
   "language": "python",
   "name": "python3"
  },
  "language_info": {
   "codemirror_mode": {
    "name": "ipython",
    "version": 3
   },
   "file_extension": ".py",
   "mimetype": "text/x-python",
   "name": "python",
   "nbconvert_exporter": "python",
   "pygments_lexer": "ipython3",
   "version": "3.4.3"
  }
 },
 "nbformat": 4,
 "nbformat_minor": 0
}
