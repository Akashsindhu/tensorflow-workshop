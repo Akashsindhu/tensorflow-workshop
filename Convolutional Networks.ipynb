{
 "cells": [
  {
   "cell_type": "markdown",
   "metadata": {},
   "source": [
    "# Convolutional Neural Networks\n",
    "\n",
    "[Awesome overview by Andrej Karpathy](http://cs231n.github.io/convolutional-networks/)\n",
    "\n",
    "## Basic Basic CNN Architecture Schema\n",
    "\n",
    "![CNN Layout](images/cnn-architecture.png)\n",
    "\n",
    "## Fully-connected layer = familiar neural network\n",
    "\n",
    "![Feed Forward](images/feedforward.jpeg)\n",
    "\n",
    "## Convolutional Layers\n",
    "\n",
    "![Convolution](images/convolution_00.jpeg)\n",
    "\n",
    "![Convolution](images/convolution_01.jpeg)\n",
    "\n",
    "## Pooling\n",
    "\n",
    "![Pool](images/pool.jpeg)\n",
    "\n",
    "### Average Pooling\n",
    "\n",
    "![Average Pooling](images/avg-pool.png)\n",
    "\n",
    "### Max Pooling\n",
    "\n",
    "![Max Pooling](images/max-pooling.png)\n",
    "\n",
    "### Pooling as a down-sampling computation\n",
    "![Max Pooling](images/maxpool.jpeg)"
   ]
  },
  {
   "cell_type": "code",
   "execution_count": null,
   "metadata": {
    "collapsed": true
   },
   "outputs": [],
   "source": []
  }
 ],
 "metadata": {
  "kernelspec": {
   "display_name": "Python 3",
   "language": "python",
   "name": "python3"
  },
  "language_info": {
   "codemirror_mode": {
    "name": "ipython",
    "version": 3
   },
   "file_extension": ".py",
   "mimetype": "text/x-python",
   "name": "python",
   "nbconvert_exporter": "python",
   "pygments_lexer": "ipython3",
   "version": "3.4.3"
  }
 },
 "nbformat": 4,
 "nbformat_minor": 0
}
