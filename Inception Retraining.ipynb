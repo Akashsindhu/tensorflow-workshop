{
 "cells": [
  {
   "cell_type": "markdown",
   "metadata": {},
   "source": [
    "# Inception script: a boring but effective solution\n",
    "\n",
    "Google was kind enough to provide a pre-built script to retrain Inception on our own classification tasks automatically. Two things to take away:\n",
    "\n",
    "1. It works really well, and is great for all manner of professional uses\n",
    "2. Doing it automatically is boring and skips some important lessons about doing it on your own.\n",
    "\n",
    "That said, there are definitely important patterns to learn- check out the [official how-to here](https://www.tensorflow.org/versions/master/how_tos/image_retraining/index.html) and the script we're using [here](https://github.com/tensorflow/tensorflow/blob/master/tensorflow/examples/image_retraining/retrain.py)."
   ]
  },
  {
   "cell_type": "code",
   "execution_count": 3,
   "metadata": {
    "collapsed": false
   },
   "outputs": [
    {
     "name": "stdout",
     "output_type": "stream",
     "text": [
      "I tensorflow/stream_executor/dso_loader.cc:108] successfully opened CUDA library libcublas.so.7.5 locally\n",
      "I tensorflow/stream_executor/dso_loader.cc:108] successfully opened CUDA library libcudnn.so locally\n",
      "I tensorflow/stream_executor/dso_loader.cc:108] successfully opened CUDA library libcufft.so.7.5 locally\n",
      "I tensorflow/stream_executor/dso_loader.cc:108] successfully opened CUDA library libcuda.so.1 locally\n",
      "I tensorflow/stream_executor/dso_loader.cc:108] successfully opened CUDA library libcurand.so.7.5 locally\n",
      "I tensorflow/core/common_runtime/gpu/gpu_init.cc:102] Found device 0 with properties: \n",
      "name: GeForce GTX TITAN X\n",
      "major: 5 minor: 2 memoryClockRate (GHz) 1.076\n",
      "pciBusID 0000:01:00.0\n",
      "Total memory: 12.00GiB\n",
      "Free memory: 406.71MiB\n",
      "W tensorflow/stream_executor/cuda/cuda_driver.cc:572] creating context when one is currently active; existing: 0x32bcba0\n",
      "I tensorflow/core/common_runtime/gpu/gpu_init.cc:102] Found device 1 with properties: \n",
      "name: GeForce GTX TITAN X\n",
      "major: 5 minor: 2 memoryClockRate (GHz) 1.076\n",
      "pciBusID 0000:02:00.0\n",
      "Total memory: 12.00GiB\n",
      "Free memory: 10.04GiB\n",
      "I tensorflow/core/common_runtime/gpu/gpu_init.cc:126] DMA: 0 1 \n",
      "I tensorflow/core/common_runtime/gpu/gpu_init.cc:136] 0:   Y Y \n",
      "I tensorflow/core/common_runtime/gpu/gpu_init.cc:136] 1:   Y Y \n",
      "I tensorflow/core/common_runtime/gpu/gpu_device.cc:838] Creating TensorFlow device (/gpu:0) -> (device: 0, name: GeForce GTX TITAN X, pci bus id: 0000:01:00.0)\n",
      "I tensorflow/core/common_runtime/gpu/gpu_device.cc:838] Creating TensorFlow device (/gpu:1) -> (device: 1, name: GeForce GTX TITAN X, pci bus id: 0000:02:00.0)\n",
      "/usr/local/lib/python3.4/dist-packages/tensorflow/python/ops/array_ops.py:1792: VisibleDeprecationWarning: converting an array with ndim > 0 to an index will result in an error in the future\n",
      "  result_shape.insert(dim, 1)\n",
      "Looking for images in 'dogs'\n",
      "Looking for images in 'cats'\n",
      "I tensorflow/core/common_runtime/gpu/gpu_device.cc:838] Creating TensorFlow device (/gpu:0) -> (device: 0, name: GeForce GTX TITAN X, pci bus id: 0000:01:00.0)\n",
      "I tensorflow/core/common_runtime/gpu/gpu_device.cc:838] Creating TensorFlow device (/gpu:1) -> (device: 1, name: GeForce GTX TITAN X, pci bus id: 0000:02:00.0)\n",
      "W tensorflow/core/framework/op_def_util.cc:332] Op BatchNormWithGlobalNormalization is deprecated. It will cease to work in GraphDef version 9. Use tf.nn.batch_normalization().\n",
      "W tensorflow/core/common_runtime/bfc_allocator.cc:213] Ran out of memory trying to allocate 533.62MiB. The caller indicates that this is not a failure, but may mean that there could be performance gains if more memory is available.\n",
      "W tensorflow/core/common_runtime/bfc_allocator.cc:213] Ran out of memory trying to allocate 1.02GiB. The caller indicates that this is not a failure, but may mean that there could be performance gains if more memory is available.\n",
      "W tensorflow/core/common_runtime/bfc_allocator.cc:213] Ran out of memory trying to allocate 1.91GiB. The caller indicates that this is not a failure, but may mean that there could be performance gains if more memory is available.\n",
      "W tensorflow/core/common_runtime/bfc_allocator.cc:213] Ran out of memory trying to allocate 200.27MiB. The caller indicates that this is not a failure, but may mean that there could be performance gains if more memory is available.\n",
      "W tensorflow/core/common_runtime/bfc_allocator.cc:213] Ran out of memory trying to allocate 300.41MiB. The caller indicates that this is not a failure, but may mean that there could be performance gains if more memory is available.\n",
      "W tensorflow/core/common_runtime/bfc_allocator.cc:213] Ran out of memory trying to allocate 200.27MiB. The caller indicates that this is not a failure, but may mean that there could be performance gains if more memory is available.\n",
      "W tensorflow/core/common_runtime/bfc_allocator.cc:213] Ran out of memory trying to allocate 300.41MiB. The caller indicates that this is not a failure, but may mean that there could be performance gains if more memory is available.\n",
      "W tensorflow/core/common_runtime/bfc_allocator.cc:213] Ran out of memory trying to allocate 200.27MiB. The caller indicates that this is not a failure, but may mean that there could be performance gains if more memory is available.\n",
      "W tensorflow/core/common_runtime/bfc_allocator.cc:213] Ran out of memory trying to allocate 300.41MiB. The caller indicates that this is not a failure, but may mean that there could be performance gains if more memory is available.\n",
      "W tensorflow/core/common_runtime/bfc_allocator.cc:213] Ran out of memory trying to allocate 200.27MiB. The caller indicates that this is not a failure, but may mean that there could be performance gains if more memory is available.\n",
      "2016-08-22 02:18:13.179221: Step 0: Train accuracy = 99.0%\n",
      "2016-08-22 02:18:13.179290: Step 0: Cross entropy = 0.608089\n",
      "2016-08-22 02:18:16.775932: Step 0: Validation accuracy = 94.0%\n",
      "2016-08-22 02:18:58.516874: Step 10: Train accuracy = 97.0%\n",
      "2016-08-22 02:18:58.516939: Step 10: Cross entropy = 0.319901\n",
      "2016-08-22 02:19:01.790356: Step 10: Validation accuracy = 100.0%\n",
      "2016-08-22 02:19:43.698235: Step 20: Train accuracy = 98.0%\n",
      "2016-08-22 02:19:43.698311: Step 20: Cross entropy = 0.192943\n",
      "2016-08-22 02:19:46.901361: Step 20: Validation accuracy = 100.0%\n",
      "2016-08-22 02:20:29.378270: Step 30: Train accuracy = 99.0%\n",
      "2016-08-22 02:20:29.378335: Step 30: Cross entropy = 0.138446\n",
      "2016-08-22 02:20:32.261751: Step 30: Validation accuracy = 100.0%\n",
      "2016-08-22 02:21:14.620680: Step 40: Train accuracy = 97.0%\n",
      "2016-08-22 02:21:14.620750: Step 40: Cross entropy = 0.170295\n",
      "2016-08-22 02:21:17.423492: Step 40: Validation accuracy = 100.0%\n",
      "2016-08-22 02:21:59.410940: Step 50: Train accuracy = 97.0%\n",
      "2016-08-22 02:21:59.411006: Step 50: Cross entropy = 0.139791\n",
      "2016-08-22 02:22:02.398794: Step 50: Validation accuracy = 99.0%\n",
      "2016-08-22 02:22:44.424592: Step 60: Train accuracy = 97.0%\n",
      "2016-08-22 02:22:44.424705: Step 60: Cross entropy = 0.145476\n",
      "2016-08-22 02:22:47.346694: Step 60: Validation accuracy = 97.0%\n",
      "2016-08-22 02:23:29.019150: Step 70: Train accuracy = 97.0%\n",
      "2016-08-22 02:23:29.019217: Step 70: Cross entropy = 0.116478\n",
      "2016-08-22 02:23:31.372790: Step 70: Validation accuracy = 99.0%\n",
      "^CTraceback (most recent call last):\n",
      "  File \"inception_retrain.py\", line 922, in <module>\n",
      "    tf.app.run()\n",
      "  File \"/usr/local/lib/python3.4/dist-packages/tensorflow/python/platform/app.py\", line 30, in run\n",
      "    sys.exit(main(sys.argv))\n",
      "  File \"inception_retrain.py\", line 861, in main\n",
      "    distorted_image_tensor, resized_image_tensor, bottleneck_tensor)\n",
      "  File \"inception_retrain.py\", line 584, in get_random_distorted_bottlenecks\n",
      "    bottleneck_tensor)\n",
      "  File \"inception_retrain.py\", line 333, in run_bottleneck_on_image\n",
      "    {image_data_tensor: image_data})\n",
      "  File \"/usr/local/lib/python3.4/dist-packages/tensorflow/python/client/session.py\", line 382, in run\n",
      "    run_metadata_ptr)\n",
      "  File \"/usr/local/lib/python3.4/dist-packages/tensorflow/python/client/session.py\", line 655, in _run\n",
      "    feed_dict_string, options, run_metadata)\n",
      "  File \"/usr/local/lib/python3.4/dist-packages/tensorflow/python/client/session.py\", line 723, in _do_run\n",
      "    target_list, options, run_metadata)\n",
      "  File \"/usr/local/lib/python3.4/dist-packages/tensorflow/python/client/session.py\", line 730, in _do_call\n",
      "    return fn(*args)\n",
      "  File \"/usr/local/lib/python3.4/dist-packages/tensorflow/python/client/session.py\", line 712, in _run_fn\n",
      "    status, run_metadata)\n",
      "KeyboardInterrupt\n",
      "\n"
     ]
    }
   ],
   "source": [
    "!python3 inception_retrain.py --image_dir 'data/dogs_and_cats/' --model_dir 'saved_models' \\\n",
    "    --flip_left_right True --random_crop 50 --random_scale 30 --random_brightness 20 \\\n",
    "    --output_graph 'saved_models/inception_output_graph.pb' \\\n",
    "    --output_labels 'saved_models/inception_output_labels.txt'\\\n",
    "    --summaries_dir 'tensorboard/inception_retrain'"
   ]
  },
  {
   "cell_type": "code",
   "execution_count": null,
   "metadata": {
    "collapsed": true
   },
   "outputs": [],
   "source": []
  }
 ],
 "metadata": {
  "kernelspec": {
   "display_name": "Python 3",
   "language": "python",
   "name": "python3"
  },
  "language_info": {
   "codemirror_mode": {
    "name": "ipython",
    "version": 3
   },
   "file_extension": ".py",
   "mimetype": "text/x-python",
   "name": "python",
   "nbconvert_exporter": "python",
   "pygments_lexer": "ipython3",
   "version": "3.4.3"
  }
 },
 "nbformat": 4,
 "nbformat_minor": 0
}
