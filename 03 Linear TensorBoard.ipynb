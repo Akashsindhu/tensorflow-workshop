{
 "cells": [
  {
   "cell_type": "code",
   "execution_count": 1,
   "metadata": {
    "collapsed": true
   },
   "outputs": [],
   "source": [
    "import tensorflow as tf\n",
    "import numpy as np\n",
    "import matplotlib.pyplot as plt"
   ]
  },
  {
   "cell_type": "code",
   "execution_count": 2,
   "metadata": {
    "collapsed": true
   },
   "outputs": [],
   "source": [
    "%matplotlib inline"
   ]
  },
  {
   "cell_type": "markdown",
   "metadata": {},
   "source": [
    "# Before adding in summary"
   ]
  },
  {
   "cell_type": "code",
   "execution_count": 3,
   "metadata": {
    "collapsed": false
   },
   "outputs": [],
   "source": [
    "x = np.random.normal(scale=1.5, size=[20])\n",
    "b = np.random.normal(scale=2, size=[20])\n",
    "y = (3 * x) + (2 * b)\n",
    "\n",
    "x_placeholder = tf.placeholder(tf.float32, [None], name='x')\n",
    "y_placeholder = tf.placeholder(tf.float32, [None], name='y')\n",
    "m = tf.Variable(tf.truncated_normal([]), name='m')\n",
    "b = tf.Variable(tf.constant(0, dtype=tf.float32), name='b')\n",
    "y_hat = tf.mul(m, x_placeholder) + b\n",
    "\n",
    "error = tf.reduce_mean(tf.square(y_hat - y_placeholder), name='MSE')\n",
    "train = tf.train.GradientDescentOptimizer(0.05).minimize(error)\n",
    "init = tf.initialize_all_variables()"
   ]
  },
  {
   "cell_type": "markdown",
   "metadata": {
    "collapsed": false
   },
   "source": [
    "# After adding in summaries"
   ]
  },
  {
   "cell_type": "code",
   "execution_count": 6,
   "metadata": {
    "collapsed": false
   },
   "outputs": [],
   "source": [
    "# Explicitly create and use graph\n",
    "graph = tf.Graph()\n",
    "with graph.as_default():\n",
    "    x = np.random.normal(scale=1.5, size=[20])\n",
    "    b = np.random.normal(scale=2, size=[20])\n",
    "    y = (3 * x) + (2 * b)\n",
    "\n",
    "    x_placeholder = tf.placeholder(tf.float32, [None], name='x')\n",
    "    y_placeholder = tf.placeholder(tf.float32, [None], name='y')\n",
    "    m = tf.Variable(tf.truncated_normal([]), name='m')\n",
    "    b = tf.Variable(tf.constant(0, dtype=tf.float32), name='b')\n",
    "    y_hat = tf.mul(m, x_placeholder) + b\n",
    "\n",
    "    error = tf.reduce_mean(tf.square(y_hat - y_placeholder), name='MSE')\n",
    "    error_summary = tf.scalar_summary('error', error) # Error summary\n",
    "    \n",
    "    # step counter\n",
    "    global_step = tf.Variable(0, trainable=False, name='global_step')\n",
    "    # Operation to increment step\n",
    "    inc_step = global_step.assign_add(1) \n",
    "\n",
    "    train = tf.train.GradientDescentOptimizer(0.05).minimize(error)\n",
    "    init = tf.initialize_all_variables()\n",
    "    merged = tf.merge_all_summaries()"
   ]
  },
  {
   "cell_type": "code",
   "execution_count": 8,
   "metadata": {
    "collapsed": false
   },
   "outputs": [
    {
     "name": "stdout",
     "output_type": "stream",
     "text": [
      "0:\tMSE: 26.039\n",
      "1:\tMSE: 21.188\n",
      "2:\tMSE: 17.732\n",
      "3:\tMSE: 15.270\n",
      "4:\tMSE: 13.515\n",
      "5:\tMSE: 12.264\n",
      "6:\tMSE: 11.372\n",
      "7:\tMSE: 10.736\n",
      "8:\tMSE: 10.282\n",
      "9:\tMSE: 9.958\n",
      "10:\tMSE: 9.727\n",
      "11:\tMSE: 9.561\n",
      "12:\tMSE: 9.443\n",
      "13:\tMSE: 9.359\n",
      "14:\tMSE: 9.298\n",
      "15:\tMSE: 9.255\n",
      "16:\tMSE: 9.224\n",
      "17:\tMSE: 9.201\n",
      "18:\tMSE: 9.185\n",
      "19:\tMSE: 9.174\n",
      "20:\tMSE: 9.165\n",
      "21:\tMSE: 9.159\n",
      "22:\tMSE: 9.155\n",
      "23:\tMSE: 9.152\n",
      "24:\tMSE: 9.150\n",
      "25:\tMSE: 9.148\n",
      "26:\tMSE: 9.147\n",
      "27:\tMSE: 9.146\n",
      "28:\tMSE: 9.145\n",
      "29:\tMSE: 9.145\n",
      "30:\tMSE: 9.144\n",
      "31:\tMSE: 9.144\n",
      "32:\tMSE: 9.144\n",
      "33:\tMSE: 9.144\n",
      "34:\tMSE: 9.144\n",
      "35:\tMSE: 9.144\n",
      "36:\tMSE: 9.144\n",
      "37:\tMSE: 9.143\n",
      "38:\tMSE: 9.143\n",
      "39:\tMSE: 9.143\n",
      "40:\tMSE: 9.143\n",
      "41:\tMSE: 9.143\n",
      "42:\tMSE: 9.143\n",
      "43:\tMSE: 9.143\n",
      "44:\tMSE: 9.143\n",
      "45:\tMSE: 9.143\n",
      "46:\tMSE: 9.143\n",
      "47:\tMSE: 9.143\n",
      "48:\tMSE: 9.143\n",
      "49:\tMSE: 9.143\n"
     ]
    }
   ],
   "source": [
    "sess = tf.Session(graph=graph) # Pass in graph to use\n",
    "writer = tf.train.SummaryWriter(logdir='tensorboard/linear', graph=graph)\n",
    "sess.run(init)\n",
    "\n",
    "for i in range(50):\n",
    "    feed_dict = {\n",
    "        x_placeholder: x,\n",
    "        y_placeholder: y\n",
    "    }\n",
    "    err, summaries, step, _ = sess.run([error, merged, inc_step, train], \n",
    "                                       feed_dict=feed_dict)\n",
    "    print(str(i) + \":\\tMSE: %.3f\" % err)\n",
    "    writer.add_summary(summaries, global_step=step)\n",
    "\n",
    "    \n",
    "sess.close()\n",
    "writer.close()"
   ]
  },
  {
   "cell_type": "markdown",
   "metadata": {
    "collapsed": false
   },
   "source": [
    "In a console, run the following command:\n",
    "\n",
    "```bash\n",
    "$ tensorboard --logdir='tensorboard/linear' --port=6006\n",
    "```\n",
    "\n",
    "By default, this command will start a TensorBoard server on `localhost:6006`. Once it's running, open up `localhost:6006` in your browser.\n",
    "\n",
    "If you get an error stating that the port is in use, simply change the port number in the command.\n",
    "    "
   ]
  },
  {
   "cell_type": "code",
   "execution_count": null,
   "metadata": {
    "collapsed": false
   },
   "outputs": [],
   "source": []
  },
  {
   "cell_type": "code",
   "execution_count": null,
   "metadata": {
    "collapsed": false
   },
   "outputs": [],
   "source": []
  },
  {
   "cell_type": "code",
   "execution_count": null,
   "metadata": {
    "collapsed": true
   },
   "outputs": [],
   "source": []
  }
 ],
 "metadata": {
  "kernelspec": {
   "display_name": "Python 3",
   "language": "python",
   "name": "python3"
  },
  "language_info": {
   "codemirror_mode": {
    "name": "ipython",
    "version": 3
   },
   "file_extension": ".py",
   "mimetype": "text/x-python",
   "name": "python",
   "nbconvert_exporter": "python",
   "pygments_lexer": "ipython3",
   "version": "3.4.3"
  }
 },
 "nbformat": 4,
 "nbformat_minor": 0
}
